{
 "cells": [
  {
   "cell_type": "code",
   "execution_count": null,
   "metadata": {},
   "outputs": [],
   "source": [
    "from datetime import date\n",
    "\n",
    "import requests\n",
    "import pandas as pd"
   ]
  },
  {
   "cell_type": "code",
   "execution_count": null,
   "metadata": {},
   "outputs": [],
   "source": [
    "response = requests.get('https://eapps.courts.state.va.us/ocis-rest/api/public/termsAndCondAccepted')"
   ]
  },
  {
   "cell_type": "code",
   "execution_count": null,
   "metadata": {},
   "outputs": [],
   "source": [
    "session_token = response.cookies['OES_TC_JSESSIONID']\n",
    "\n",
    "session_token"
   ]
  },
  {
   "cell_type": "code",
   "execution_count": null,
   "metadata": {},
   "outputs": [],
   "source": [
    "request_date = date.today().strftime('%m/%d/%Y')\n",
    "\n",
    "request_date"
   ]
  },
  {
   "cell_type": "code",
   "execution_count": null,
   "metadata": {},
   "outputs": [],
   "source": [
    "headers = {\n",
    "    \"Cookie\": f\"OES_TC_JSESSIONID={session_token}\"\n",
    "}\n",
    "\n",
    "body = {\n",
    "    \"courtLevels\": [],\n",
    "    \"divisions\": [\n",
    "        \"Criminal/Traffic\"\n",
    "    ],\n",
    "    \"selectedCourts\": [],\n",
    "    \"searchString\":[request_date],\n",
    "    \"searchBy\":\"HD\"\n",
    "}\n",
    "\n",
    "response = requests.post(\n",
    "    'https://eapps.courts.state.va.us/ocis-rest/api/public/search', \n",
    "    headers=headers,\n",
    "    json=body\n",
    ")\n",
    "\n",
    "response_body = response.json()"
   ]
  },
  {
   "cell_type": "code",
   "execution_count": null,
   "metadata": {},
   "outputs": [],
   "source": [
    "results = response_body['context']['entity']['payload']['searchResults']\n",
    "\n",
    "df = pd.DataFrame(results)\n",
    "\n",
    "df.head()"
   ]
  },
  {
   "cell_type": "code",
   "execution_count": null,
   "metadata": {},
   "outputs": [],
   "source": [
    "sample_qualified_fips = df['qualifiedFips'].iloc[0]\n",
    "sample_division_type = df['divisionType'].iloc[0]\n",
    "sample_case_number = df['caseNumber'].iloc[0]\n",
    "\n",
    "sample_case_number"
   ]
  },
  {
   "cell_type": "code",
   "execution_count": null,
   "metadata": {},
   "outputs": [],
   "source": [
    "headers = {\n",
    "    \"Cookie\": f\"OES_TC_JSESSIONID={session_token}\"\n",
    "}\n",
    "\n",
    "body = {\n",
    "    \"qualifiedFips\": sample_qualified_fips,\n",
    "    \"divisionType\": sample_division_type,\n",
    "    \"caseNumber\": sample_case_number\n",
    "}\n",
    "\n",
    "response = requests.post(\n",
    "    'https://eapps.courts.state.va.us/ocis-rest/api/public/getCaseDetails', \n",
    "    headers=headers,\n",
    "    json=body\n",
    ")\n",
    "\n",
    "response_body = response.json()"
   ]
  },
  {
   "cell_type": "code",
   "execution_count": null,
   "metadata": {},
   "outputs": [],
   "source": [
    "pd.set_option('display.max_columns', None)\n",
    "details = pd.json_normalize(response_body['context']['entity']['payload'])\n",
    "\n",
    "details"
   ]
  },
  {
   "cell_type": "code",
   "execution_count": null,
   "metadata": {},
   "outputs": [],
   "source": [
    "details['caseParticipant'].iloc[0]"
   ]
  },
  {
   "cell_type": "code",
   "execution_count": null,
   "metadata": {},
   "outputs": [],
   "source": [
    "details['caseHearing'].iloc[0]"
   ]
  }
 ],
 "metadata": {
  "interpreter": {
   "hash": "d930ba9234c6d78bc371ea4f0b9b89fa4ad4929f024416b2f2bbf3c57e1d44e5"
  },
  "kernelspec": {
   "display_name": "Python 3.10.2 ('va-court-scraper-sx_V8LwR-py3.10')",
   "language": "python",
   "name": "python3"
  },
  "language_info": {
   "codemirror_mode": {
    "name": "ipython",
    "version": 3
   },
   "file_extension": ".py",
   "mimetype": "text/x-python",
   "name": "python",
   "nbconvert_exporter": "python",
   "pygments_lexer": "ipython3",
   "version": "3.10.2"
  },
  "orig_nbformat": 4
 },
 "nbformat": 4,
 "nbformat_minor": 2
}
